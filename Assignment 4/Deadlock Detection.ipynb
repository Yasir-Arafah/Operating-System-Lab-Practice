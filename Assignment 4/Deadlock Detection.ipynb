{
  "nbformat": 4,
  "nbformat_minor": 0,
  "metadata": {
    "colab": {
      "provenance": []
    },
    "kernelspec": {
      "name": "python3",
      "display_name": "Python 3"
    },
    "language_info": {
      "name": "python"
    }
  },
  "cells": [
    {
      "cell_type": "code",
      "source": [
        "#Deadlock detected for all input\n",
        "\n",
        "\n",
        "def dfs(node, visited, path):\n",
        "    global cycle_found\n",
        "    if cycle_found:\n",
        "        return\n",
        "\n",
        "    if node in path:\n",
        "        cycle_start = path.index(node)\n",
        "        cycle = path[cycle_start:]\n",
        "        print(f\"{cycle_count} - Deadlock Detected Among nodes:\", end=\" \")\n",
        "        for i in cycle:\n",
        "            print(node_names[i], end=\" \")\n",
        "        print()\n",
        "        cycle_found = True\n",
        "\n",
        "    visited[node] = True\n",
        "    path.append(node)\n",
        "\n",
        "    for neighbor in graph[node]:\n",
        "        if not visited[neighbor]:\n",
        "            dfs(neighbor, visited, path)\n",
        "        elif not cycle_found and neighbor in path:\n",
        "            cycle_start = path.index(neighbor)\n",
        "            cycle = path[cycle_start:]\n",
        "            print(f\"{cycle_count} - Deadlock Detected Among nodes:\", end=\" \")\n",
        "            for i in cycle:\n",
        "                print(node_names[i], end=\" \")\n",
        "            print()\n",
        "            cycle_found = True\n",
        "\n",
        "    path.pop()\n",
        "    visited[node] = False\n",
        "\n",
        "\n",
        "num_nodes = int(input(\"Number of nodes: \"))\n",
        "node_names = input(\"Node names: \").split()\n",
        "graph = {i: [] for i in range(num_nodes)}\n",
        "\n",
        "print(\"Edges:\")\n",
        "while True:\n",
        "    line = input()\n",
        "    if line == \"\":\n",
        "        break\n",
        "    src, dest = line.split(\" to \")\n",
        "    src_index, dest_index = node_names.index(src), node_names.index(dest)\n",
        "    graph[src_index].append(dest_index)\n",
        "\n",
        "cycles = []\n",
        "visited = {node: False for node in graph}\n",
        "cycle_count = 1\n",
        "cycle_found = False\n",
        "\n",
        "for node in graph:\n",
        "    if not visited[node] and not cycle_found:\n",
        "        dfs(node, visited, [])\n",
        "\n",
        "if not cycle_found:\n",
        "    print(\"\\nNo Deadlock Detected!\")\n"
      ],
      "metadata": {
        "colab": {
          "base_uri": "https://localhost:8080/"
        },
        "id": "qvCFtuYJ9_5f",
        "outputId": "b4fbddf8-77be-47a8-81a0-6e71ad96d7f4"
      },
      "execution_count": null,
      "outputs": [
        {
          "output_type": "stream",
          "name": "stdout",
          "text": [
            "Number of nodes: 13\n",
            "Node names: R A C S D T B E F U V W G\n",
            "Edges:\n",
            "R to A\n",
            "A to S\n",
            "C to S\n",
            "D to S\n",
            "F to S\n",
            "W to F\n",
            "B to T\n",
            "D to T\n",
            "T to E\n",
            "E to V\n",
            "V to G\n",
            "G to U\n",
            "U to D\n",
            "\n",
            "1 - Deadlock Detected Among nodes: D T E V G U \n"
          ]
        }
      ]
    }
  ]
}